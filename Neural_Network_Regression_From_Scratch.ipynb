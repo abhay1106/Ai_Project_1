{
  "nbformat": 4,
  "nbformat_minor": 0,
  "metadata": {
    "colab": {
      "provenance": []
    },
    "kernelspec": {
      "name": "python3",
      "display_name": "Python 3"
    },
    "language_info": {
      "name": "python"
    }
  },
  "cells": [
    {
      "cell_type": "markdown",
      "source": [
        "****Module 2: Introduction t\n",
        "to Neural Networks - Assignment****\n"
      ],
      "metadata": {
        "id": "nFg1qvUMJzJm"
      }
    },
    {
      "cell_type": "markdown",
      "source": [
        "**Introduction:**\n",
        "Neural networks, primarily known for their applications in classification tasks, can\n",
        "also be employed for regression problems. In this exercise, we aim to\n",
        "demonstrate the usage of a simple neural network in predicting a linear\n",
        "relationship between input features and the output.\n",
        "\n",
        "**Objective:**\n",
        "The primary objective is to predict the output value y based on two input features\n",
        "x1 and x2 using a basic neural network model with the equation y=3x1+4x2. The\n",
        "neural network will be trained using a feed-forward and back-propagation\n",
        "mechanism to minimize the error between the predicted and actual values.\n"
      ],
      "metadata": {
        "id": "Sz6hSrO2KLR-"
      }
    },
    {
      "cell_type": "markdown",
      "source": [
        "**Importing Required Libraries**"
      ],
      "metadata": {
        "id": "TjbUwrxrKrOg"
      }
    },
    {
      "cell_type": "code",
      "execution_count": 1,
      "metadata": {
        "id": "tTzifR_qHCix"
      },
      "outputs": [],
      "source": [
        "import numpy as np\n",
        "import matplotlib.pyplot as plt"
      ]
    },
    {
      "cell_type": "markdown",
      "source": [
        "**Defining Activation Function**"
      ],
      "metadata": {
        "id": "zccTWRaOLPsw"
      }
    },
    {
      "cell_type": "code",
      "source": [
        "def sigmoid(x):\n",
        "    return 1 / (1 + np.exp(-x))\n",
        "\n",
        "def tanh(x):\n",
        "    return np.tanh(x)\n",
        "\n",
        "def relu(x):\n",
        "    return np.maximum(0, x)"
      ],
      "metadata": {
        "id": "Sigt_5-XHU1t"
      },
      "execution_count": 2,
      "outputs": []
    },
    {
      "cell_type": "markdown",
      "source": [
        "**Sample Data**"
      ],
      "metadata": {
        "id": "e0nC3xe2LaLY"
      }
    },
    {
      "cell_type": "code",
      "source": [
        "x1 = 3\n",
        "x2 = 2\n",
        "y_actual = 17"
      ],
      "metadata": {
        "id": "W637L_JEHcqg"
      },
      "execution_count": 3,
      "outputs": []
    },
    {
      "cell_type": "markdown",
      "source": [
        "**Initializing Random Weight**"
      ],
      "metadata": {
        "id": "sFvK3efELh72"
      }
    },
    {
      "cell_type": "code",
      "source": [
        "w1 = np.random.uniform(1, 10)\n",
        "w2 = np.random.uniform(1, 10)"
      ],
      "metadata": {
        "id": "Ot03uInjHkJa"
      },
      "execution_count": 4,
      "outputs": []
    },
    {
      "cell_type": "markdown",
      "source": [
        "**Training Model**"
      ],
      "metadata": {
        "id": "v2ujwI4jMOJg"
      }
    },
    {
      "cell_type": "code",
      "source": [
        "learning_rate = 0.01\n",
        "error_list = []\n",
        "ypred_list = []\n",
        "for epoch in range(20):\n",
        "    # Feedforward Prediction\n",
        "    y_pred = (x1 * w1) + (x2 * w2)\n",
        "\n",
        "    # Computing the squared error\n",
        "    error = (y_actual - y_pred) ** 2\n",
        "\n",
        "    # Backpropagation: Computing gradients\n",
        "    grad_w1 = -2 * x1 * (y_actual - y_pred)\n",
        "    grad_w2 = -2 * x2 * (y_actual - y_pred)\n",
        "\n",
        "    # Updating the weights using gradient descent\n",
        "    w1 -= learning_rate * grad_w1\n",
        "    w2 -= learning_rate * grad_w2\n",
        "\n",
        "    # Save the error and y_pred for visualization\n",
        "    error_list.append(error)\n",
        "    ypred_list.append(y_pred)\n",
        "\n",
        "    # Printing the epoch progress\n",
        "    if epoch % 5 == 0:\n",
        "        print(f\"Epoch {epoch}: Error = {error:.2f}, y_pred = {y_pred:.2f}, w1 = {w1:.2f}, w2 = {w2:.2f}\")"
      ],
      "metadata": {
        "colab": {
          "base_uri": "https://localhost:8080/"
        },
        "id": "C4oXHIvMHsba",
        "outputId": "d774ddd6-09cd-4626-b6ce-dccd805ccfa6"
      },
      "execution_count": 8,
      "outputs": [
        {
          "output_type": "stream",
          "name": "stdout",
          "text": [
            "Epoch 0: Error = 56.81, y_pred = 24.54, w1 = 3.96, w2 = 5.34\n",
            "Epoch 5: Error = 2.80, y_pred = 18.67, w1 = 2.96, w2 = 4.68\n",
            "Epoch 10: Error = 0.14, y_pred = 17.37, w1 = 2.74, w2 = 4.53\n",
            "Epoch 15: Error = 0.01, y_pred = 17.08, w1 = 2.69, w2 = 4.49\n"
          ]
        }
      ]
    },
    {
      "cell_type": "markdown",
      "source": [
        "**Printing Final Result**"
      ],
      "metadata": {
        "id": "vulzdp1-M4ik"
      }
    },
    {
      "cell_type": "code",
      "source": [
        "print(f\"Final weights: w1 = {w1:.2f}, w2 = {w2:.2f}\")\n",
        "print(f\"Final predicted y = {y_pred:.2f}, Expected y = {y_actual}\")"
      ],
      "metadata": {
        "colab": {
          "base_uri": "https://localhost:8080/"
        },
        "id": "rpgmomo8HsST",
        "outputId": "0511c61d-e37d-4238-9374-c2b9da82432d"
      },
      "execution_count": 9,
      "outputs": [
        {
          "output_type": "stream",
          "name": "stdout",
          "text": [
            "Final weights: w1 = 2.68, w2 = 4.49\n",
            "Final predicted y = 17.02, Expected y = 17\n"
          ]
        }
      ]
    },
    {
      "cell_type": "markdown",
      "source": [
        "**Visualization**"
      ],
      "metadata": {
        "id": "3Xq8QuGpNJuU"
      }
    },
    {
      "cell_type": "markdown",
      "source": [
        "Ploting the Progression of errors across Epochs"
      ],
      "metadata": {
        "id": "COj1axoxNXsW"
      }
    },
    {
      "cell_type": "code",
      "source": [
        "plt.figure(figsize=(12, 6))\n",
        "plt.subplot(1, 2, 1)\n",
        "plt.plot(range(20), error_list, label=\"Error\")\n",
        "plt.title(\"Error Progression\")\n",
        "plt.xlabel(\"Epochs\")\n",
        "plt.ylabel(\"Squared Error\")\n",
        "plt.grid(True)"
      ],
      "metadata": {
        "colab": {
          "base_uri": "https://localhost:8080/",
          "height": 564
        },
        "id": "s2oUgmy8HsHn",
        "outputId": "f6682106-e801-4ce1-95ce-fc5964834a3d"
      },
      "execution_count": 10,
      "outputs": [
        {
          "output_type": "display_data",
          "data": {
            "text/plain": [
              "<Figure size 1200x600 with 1 Axes>"
            ],
            "image/png": "[encoded data removed]"
          },
          "metadata": {}
        }
      ]
    },
    {
      "cell_type": "markdown",
      "source": [
        "Ploting the Progression of ypred across Epochs"
      ],
      "metadata": {
        "id": "-mQXpmOQNumW"
      }
    },
    {
      "cell_type": "code",
      "source": [
        "plt.subplot(1, 2, 2)\n",
        "plt.plot(range(20), ypred_list, label=\"Predicted y\", color='orange')\n",
        "plt.title(\"Predicted Output Progression\")\n",
        "plt.xlabel(\"Epochs\")\n",
        "plt.ylabel(\"Predicted y\")\n",
        "plt.grid(True)\n",
        "\n",
        "plt.tight_layout()\n",
        "plt.show()"
      ],
      "metadata": {
        "colab": {
          "base_uri": "https://localhost:8080/",
          "height": 487
        },
        "id": "Cp9FOBa7Hr8a",
        "outputId": "ec130216-1a26-4b50-bd69-cc703fe4f6b8"
      },
      "execution_count": 11,
      "outputs": [
        {
          "output_type": "display_data",
          "data": {
            "text/plain": [
              "<Figure size 640x480 with 1 Axes>"
            ],
            "image/png": "[encoded data removed]"
          },
          "metadata": {}
        }
      ]
    }
  ]
}